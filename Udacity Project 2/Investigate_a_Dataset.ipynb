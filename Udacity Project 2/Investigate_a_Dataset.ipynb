{
 "cells": [
  {
   "cell_type": "markdown",
   "metadata": {},
   "source": [
    "# # Project: Investigate a Dataset - [Soccer Database](https://d17h27t6h515a5.cloudfront.net/topher/2017/November/5a0a4cad_database/database.sqlite)\n",
    "###### Lucas de Lima, 8/25/22\n",
    "---\n",
    "## Table of Contents\n",
    "<ul>\n",
    "<li><a href=\"#intro\">Introduction</a></li>\n",
    "<li><a href=\"#question 1\">First Question</a></li>\n",
    "<li><a href=\"#findings question 1\">Answering First Question</a></li>\n",
    "<li><a href=\"#question 2\">Second Question</a></li>\n",
    "<li><a href=\"#findings question 2\">Answering Second Question</a></li> \n",
    "<li><a href=\"#question 3\">Third Question</a></li>\n",
    "<li><a href=\"#findings question 3\">Answering Third Question</a></li> \n",
    "<li><a href=\"#question 4\">Fourth Question</a></li>\n",
    "<li><a href=\"#findings question 4\">Answering Fourth Question</a></li> \n",
    "<li><a href=\"#conclusions\">Conclusions</a></li>\n",
    "</ul>"
   ]
  },
  {
   "cell_type": "markdown",
   "metadata": {},
   "source": [
    "<a id='intro'></a>\n",
    "## Introduction\n",
    "\n",
    "### Dataset Description \n",
    "\n",
    "Our database is a big collection of information from 11 Countries and their respective National Leagues. Namely:\n",
    "* Belgium \n",
    "* England \n",
    "* France \n",
    "* Germany \n",
    "* Italy \n",
    "* Netherlands \n",
    "* Poland \n",
    "* Portugal \n",
    "* Scotland \n",
    "* Spain\n",
    "* Switzerland\n",
    "\n",
    "Under which we have 7 tables with datasets that we used:\n",
    "\n",
    "1. Country (id and name)\n",
    "2. League (id, country_id and name)\n",
    "3. Match (id, league_id, season, home_team_api_id, away_team_api_id, home_team_goals and away_team_goals)\n",
    "4. Player (player_name, player_fifa_api_id, birthday)\n",
    "5. Player_attributes (player_fifa_id, potential, overall_rating, date)\n",
    "6. Team (team_fifa_api_id, team_long_name)\n",
    "7. Team_attributes (team_fifa_api_id, date, buildupplayspeed, buildupplaydribbling, buildupplaypassing, chancecreationpassing, chancecreationcrossing, defencepressure, defenceagression and defenceteamwidth)\n",
    "\n",
    "All the tables were interconnected via fifa_api_id's for players and teams or just regular id's for countries and leagues.\n",
    "    \n",
    "After skimming through and checking the consistency of data, I opted to not use many columns that had little meaning or that had unvalid value inputs. Then, i proceeded to think about the questions i could ask and answer with the available data \n",
    "i had on hands. Some that came to mind:\n",
    "\n",
    "\n",
    "### Question(s) for Analysis\n",
    "\n",
    "1. How much, if at all, does a players rating decrease with his age?\n",
    "2. Does a \"home field\" advantage really translate to more odds of winning games at home?\n",
    "3. Which leagues had higher goals overall and averaged per game?\n",
    "4. What is the correlation between the average stats of a team and its chances of winning more games during a season?"
   ]
  },
  {
   "cell_type": "code",
   "execution_count": 23,
   "metadata": {},
   "outputs": [],
   "source": [
    "import pandas as pd\n",
    "import numpy as np\n",
    "import matplotlib.pyplot as plt\n",
    "import seaborn as sns\n",
    "\n",
    "%matplotlib inline"
   ]
  },
  {
   "cell_type": "code",
   "execution_count": 14,
   "metadata": {},
   "outputs": [],
   "source": [
    "# Upgrade pandas to use dataframe.explode() function. \n",
    "#!pip install --upgrade pandas==0.25.0"
   ]
  },
  {
   "cell_type": "markdown",
   "metadata": {},
   "source": [
    "# <a id='question 1'></a>\n",
    "## Question 1: How much, if at all, does a players rating decrease with age?\n",
    "---\n"
   ]
  },
  {
   "cell_type": "markdown",
   "metadata": {},
   "source": [
    "For analyzing players and their associated ratings i inner joined the Player and Player_attributes tables, retrieved their names, rating, potential rating, DOB and date of inserted data. One common factor in this report is that i will be formatting the dates for my needs, here i don't actually need their current age, just need the progression from each year to compare\n",
    "with their ratings, so i shall eventually drop all the characters from birthday and date columns\n",
    "except for the first 4, which correspond to the Year. fifa_api_id in this dataset was exactred\n",
    "directly from the Fifa soccer games along with the player ratings. fifa_api_id was also used\n",
    "to join the tables but don't hold actual value for us, so i decided to leave it out of the\n",
    "queried data.\n",
    "\n",
    "### SQL code for players and ratings\n",
    "\n",
    "select P.player_name as \"name\", PA.overall_rating as \"rating\", \n",
    "\n",
    " PA.potential as \"potential\", P.birthday as \"birthday\", PA.date as \"date\"  \n",
    " \n",
    "from Player as P \n",
    "\n",
    "inner join Player_Attributes as PA \n",
    "\n",
    "on P.player_fifa_api_id = PA.player_fifa_api_id \n",
    "\n",
    "Order By P.player_name;\n",
    "\n",
    "\n",
    "Then exported as Players_and_ratings.csv"
   ]
  },
  {
   "cell_type": "code",
   "execution_count": 115,
   "metadata": {},
   "outputs": [],
   "source": [
    "#Player Ratings loading data\n",
    "PRdf = pd.read_csv('Players_and_ratings.csv')"
   ]
  },
  {
   "cell_type": "code",
   "execution_count": 121,
   "metadata": {},
   "outputs": [
    {
     "data": {
      "text/html": [
       "<div>\n",
       "<style scoped>\n",
       "    .dataframe tbody tr th:only-of-type {\n",
       "        vertical-align: middle;\n",
       "    }\n",
       "\n",
       "    .dataframe tbody tr th {\n",
       "        vertical-align: top;\n",
       "    }\n",
       "\n",
       "    .dataframe thead th {\n",
       "        text-align: right;\n",
       "    }\n",
       "</style>\n",
       "<table border=\"1\" class=\"dataframe\">\n",
       "  <thead>\n",
       "    <tr style=\"text-align: right;\">\n",
       "      <th></th>\n",
       "      <th>name</th>\n",
       "      <th>rating</th>\n",
       "      <th>potential</th>\n",
       "      <th>birthday</th>\n",
       "      <th>date</th>\n",
       "      <th>age</th>\n",
       "    </tr>\n",
       "  </thead>\n",
       "  <tbody>\n",
       "    <tr>\n",
       "      <th>0</th>\n",
       "      <td>Aaron Appindangoye</td>\n",
       "      <td>67.0</td>\n",
       "      <td>71.0</td>\n",
       "      <td>1992</td>\n",
       "      <td>2016</td>\n",
       "      <td>24</td>\n",
       "    </tr>\n",
       "    <tr>\n",
       "      <th>1</th>\n",
       "      <td>Aaron Appindangoye</td>\n",
       "      <td>67.0</td>\n",
       "      <td>71.0</td>\n",
       "      <td>1992</td>\n",
       "      <td>2015</td>\n",
       "      <td>23</td>\n",
       "    </tr>\n",
       "    <tr>\n",
       "      <th>2</th>\n",
       "      <td>Aaron Appindangoye</td>\n",
       "      <td>62.0</td>\n",
       "      <td>66.0</td>\n",
       "      <td>1992</td>\n",
       "      <td>2015</td>\n",
       "      <td>23</td>\n",
       "    </tr>\n",
       "    <tr>\n",
       "      <th>3</th>\n",
       "      <td>Aaron Appindangoye</td>\n",
       "      <td>61.0</td>\n",
       "      <td>65.0</td>\n",
       "      <td>1992</td>\n",
       "      <td>2015</td>\n",
       "      <td>23</td>\n",
       "    </tr>\n",
       "    <tr>\n",
       "      <th>4</th>\n",
       "      <td>Aaron Appindangoye</td>\n",
       "      <td>61.0</td>\n",
       "      <td>65.0</td>\n",
       "      <td>1992</td>\n",
       "      <td>2007</td>\n",
       "      <td>15</td>\n",
       "    </tr>\n",
       "  </tbody>\n",
       "</table>\n",
       "</div>"
      ],
      "text/plain": [
       "                 name  rating  potential birthday  date  age\n",
       "0  Aaron Appindangoye    67.0       71.0     1992  2016   24\n",
       "1  Aaron Appindangoye    67.0       71.0     1992  2015   23\n",
       "2  Aaron Appindangoye    62.0       66.0     1992  2015   23\n",
       "3  Aaron Appindangoye    61.0       65.0     1992  2015   23\n",
       "4  Aaron Appindangoye    61.0       65.0     1992  2007   15"
      ]
     },
     "execution_count": 121,
     "metadata": {},
     "output_type": "execute_result"
    }
   ],
   "source": [
    "#dropping extra characters in birthday and date, then calculating age and dropping duplicates and null\n",
    "PRdf['birthday'] = PRdf['birthday'].str[:4]\n",
    "PRdf['date'] = PRdf['date'].str[:4]\n",
    "PRdf['age'] = PRdf['date'].astype(int) - PRdf['birthday'].astype(int)\n",
    "PRdf.drop_duplicates(inplace=True)\n",
    "PRdf.dropna(inplace=True)\n",
    "PRdf.head()"
   ]
  },
  {
   "cell_type": "code",
   "execution_count": 117,
   "metadata": {},
   "outputs": [
    {
     "data": {
      "text/plain": [
       "<AxesSubplot:>"
      ]
     },
     "execution_count": 117,
     "metadata": {},
     "output_type": "execute_result"
    },
    {
     "data": {
      "image/png": "[encoded data removed]",
      "text/plain": [
       "<Figure size 432x288 with 1 Axes>"
      ]
     },
     "metadata": {
      "needs_background": "light"
     },
     "output_type": "display_data"
    }
   ],
   "source": [
    "#plotting box to identify outliers (i.e kids and very old players)\n",
    "PRdf['age'].plot.box()"
   ]
  },
  {
   "cell_type": "code",
   "execution_count": 106,
   "metadata": {},
   "outputs": [
    {
     "data": {
      "text/plain": [
       "count    124920.000000\n",
       "mean         25.398711\n",
       "std           4.801278\n",
       "min           8.000000\n",
       "25%          22.000000\n",
       "50%          25.000000\n",
       "75%          29.000000\n",
       "max          44.000000\n",
       "Name: age, dtype: float64"
      ]
     },
     "execution_count": 106,
     "metadata": {},
     "output_type": "execute_result"
    }
   ],
   "source": [
    "PRdf['age'].describe()"
   ]
  },
  {
   "cell_type": "code",
   "execution_count": 107,
   "metadata": {},
   "outputs": [],
   "source": [
    "#dropping outliers, considering my lower limit as adult age instead of 25% - 1.5(box size)\n",
    "#upper limit = 75% + 1.5(box size) = 29 + 1.5*7 = 39.5 and storing in a New Dataframe, to keep original intact\n",
    "PRA = PRdf.query('age > 18')\n",
    "PRA = PRA.query('age < 40')"
   ]
  },
  {
   "cell_type": "code",
   "execution_count": 108,
   "metadata": {},
   "outputs": [],
   "source": [
    "#mean values of rating per age group\n",
    "PRA = PRA.groupby('age')['rating'].mean()"
   ]
  },
  {
   "cell_type": "code",
   "execution_count": 186,
   "metadata": {},
   "outputs": [],
   "source": [
    "#checking how long players, on average, played. Y = years\n",
    "#creating player rating years min \n",
    "PRYmin = PRdf.groupby('name').min()\n",
    "PRYmin.pop('potential')\n",
    "PRYmin.pop('birthday')\n",
    "PRYmin.pop('rating')\n",
    "PRYmin.pop('date');"
   ]
  },
  {
   "cell_type": "code",
   "execution_count": 191,
   "metadata": {},
   "outputs": [],
   "source": [
    "#creating player rating years max\n",
    "PRYmax = PRdf.groupby('name').max()\n",
    "PRYmax.pop('potential')\n",
    "PRYmax.pop('birthday')\n",
    "PRYmax.pop('date')\n",
    "PRYmax.rename(columns ={'age':'age_old'},inplace=True)"
   ]
  },
  {
   "cell_type": "code",
   "execution_count": 192,
   "metadata": {},
   "outputs": [],
   "source": [
    "#creating dataframe with age differnece\n",
    "PRY = pd.concat([PRYmax,PRYmin],axis=1,join='inner')\n",
    "PRY['years_played'] = PRY['age_old']-PRY['age']"
   ]
  },
  {
   "cell_type": "code",
   "execution_count": 198,
   "metadata": {},
   "outputs": [
    {
     "data": {
      "text/plain": [
       "7.724926253687316"
      ]
     },
     "execution_count": 198,
     "metadata": {},
     "output_type": "execute_result"
    }
   ],
   "source": [
    "PRY['years_played'].mean()"
   ]
  },
  {
   "cell_type": "code",
   "execution_count": 221,
   "metadata": {},
   "outputs": [],
   "source": [
    "#querying into 2 df's players who played longer or shorter than the average\n",
    "short= PRY.query('years_played < 7.724926253687316')\n",
    "long = PRY.query('years_played > 7.724926253687316')\n",
    "short.pop('age_old')\n",
    "short.pop('age')\n",
    "long.pop('age_old')\n",
    "long.pop('age');"
   ]
  },
  {
   "cell_type": "code",
   "execution_count": 232,
   "metadata": {},
   "outputs": [],
   "source": [
    "#quick sorting\n",
    "long = long.sort_values(by='years_played')\n",
    "short = short.sort_values(by='years_played')"
   ]
  },
  {
   "cell_type": "markdown",
   "metadata": {},
   "source": [
    "# <a id='findings question 1'></a>\n",
    "## Analyzing our data\n",
    "---"
   ]
  },
  {
   "cell_type": "markdown",
   "metadata": {},
   "source": [
    "So, now that our data is ready, lets take a look at how the average rating evolves according to a players age."
   ]
  },
  {
   "cell_type": "code",
   "execution_count": 266,
   "metadata": {},
   "outputs": [
    {
     "data": {
      "image/png": "[encoded data removed]",
      "text/plain": [
       "<Figure size 432x288 with 1 Axes>"
      ]
     },
     "metadata": {
      "needs_background": "light"
     },
     "output_type": "display_data"
    }
   ],
   "source": [
    "PRA.plot.line(title=\"Ratings Vs Age\",xlabel=\"Age\",ylabel=\"Rating\");"
   ]
  },
  {
   "cell_type": "markdown",
   "metadata": {},
   "source": [
    "So according to our data, players tend to improve their ratings as they age! At a fast rate during their early 20's and eventually still improving into their 40's."
   ]
  },
  {
   "cell_type": "markdown",
   "metadata": {},
   "source": [
    "But wait, that doesn't seem to make much sense. Aren't players supposed to get worse as they age?\n",
    "Lets take a look at the distribution of age samples!"
   ]
  },
  {
   "cell_type": "code",
   "execution_count": 113,
   "metadata": {},
   "outputs": [
    {
     "data": {
      "image/png": "[encoded data removed]",
      "text/plain": [
       "<Figure size 432x288 with 1 Axes>"
      ]
     },
     "metadata": {
      "needs_background": "light"
     },
     "output_type": "display_data"
    }
   ],
   "source": [
    "PRdf['age'].plot.hist(title=\"Age Distribution\",xlabel=\"Age\");"
   ]
  },
  {
   "cell_type": "markdown",
   "metadata": {},
   "source": [
    "As we can see in our Distribution of Age Samples, we have very few players over the age of 35. Therefore, a possible explanation to our initial question is that the lower rated players just simply phase out of competitive Soccer before they have the chance to lower the average rating of higher aged players! "
   ]
  },
  {
   "cell_type": "code",
   "execution_count": 257,
   "metadata": {},
   "outputs": [
    {
     "data": {
      "image/png": "[encoded data removed]",
      "text/plain": [
       "<Figure size 432x288 with 1 Axes>"
      ]
     },
     "metadata": {
      "needs_background": "light"
     },
     "output_type": "display_data"
    }
   ],
   "source": [
    "fig, LxS = plt.subplots()\n",
    "LxS.scatter(long['years_played'], long['rating'], color='red', label=\"Long Career\")\n",
    "LxS.scatter(short['years_played'], short['rating'], color='blue', label=\"Short Career\")\n",
    "\n",
    "plt.legend(loc=\"lower right\")\n",
    "plt.title(\"Ratings for Short and Long Careers\")\n",
    "plt.xlabel(\"Years Played\")\n",
    "plt.ylabel(\"Rating\")\n",
    "plt.show()"
   ]
  },
  {
   "cell_type": "markdown",
   "metadata": {},
   "source": [
    "Voilà! Now that explains our initial findings. As we can tell by this scatter plot, players with over 10 years playing tend to only continue if their Rating is fairly high, around 70 and over!"
   ]
  },
  {
   "cell_type": "markdown",
   "metadata": {},
   "source": [
    "# <a id='question 2'></a>\n",
    "## Question 2: Does a \"home field\" advantage really translate to more odds of winning games at home?\n",
    "---"
   ]
  },
  {
   "cell_type": "markdown",
   "metadata": {
    "collapsed": true
   },
   "source": [
    "From the Match table I want to acquire the teams playing home and away and how many goals scored. \n",
    "Since the Match table had api numbers i had to inner join League and left join Team twice, once for Home and\n",
    "once for Away. (side note: There probably was an easier way to accomplish this, but my inexperience said this was the way to go.)\n",
    "\n",
    "### SQL code for league\n",
    "select L.name as \"league_name\", M.season as \"season\", M.date as \"date\",\n",
    "\n",
    " T1.team_long_name as \"home\", T2.team_long_name as \"away\",\n",
    " \n",
    " M.home_team_goal as \"home_goals\", M.away_team_goal as \"away_goals\"\n",
    " \n",
    "from Match as M\n",
    "\n",
    "inner join League as L\n",
    "\n",
    "on M.league_id = L.id\n",
    "\n",
    "left join Team as T1\n",
    "\n",
    "on M.home_team_api_id = T1.team_api_id\n",
    "\n",
    "left join Team as T2\n",
    "\n",
    "on M.away_team_api_id = T2.team_api_id\n",
    "\n",
    "Then extracted as Leagues.csv"
   ]
  },
  {
   "cell_type": "code",
   "execution_count": 747,
   "metadata": {},
   "outputs": [
    {
     "data": {
      "text/html": [
       "<div>\n",
       "<style scoped>\n",
       "    .dataframe tbody tr th:only-of-type {\n",
       "        vertical-align: middle;\n",
       "    }\n",
       "\n",
       "    .dataframe tbody tr th {\n",
       "        vertical-align: top;\n",
       "    }\n",
       "\n",
       "    .dataframe thead th {\n",
       "        text-align: right;\n",
       "    }\n",
       "</style>\n",
       "<table border=\"1\" class=\"dataframe\">\n",
       "  <thead>\n",
       "    <tr style=\"text-align: right;\">\n",
       "      <th></th>\n",
       "      <th>league_name</th>\n",
       "      <th>season</th>\n",
       "      <th>date</th>\n",
       "      <th>home</th>\n",
       "      <th>away</th>\n",
       "      <th>home_goals</th>\n",
       "      <th>away_goals</th>\n",
       "    </tr>\n",
       "  </thead>\n",
       "  <tbody>\n",
       "    <tr>\n",
       "      <th>0</th>\n",
       "      <td>Belgium Jupiler League</td>\n",
       "      <td>2008/2009</td>\n",
       "      <td>2008-08-17 00:00:00</td>\n",
       "      <td>KRC Genk</td>\n",
       "      <td>Beerschot AC</td>\n",
       "      <td>1</td>\n",
       "      <td>1</td>\n",
       "    </tr>\n",
       "    <tr>\n",
       "      <th>1</th>\n",
       "      <td>Belgium Jupiler League</td>\n",
       "      <td>2008/2009</td>\n",
       "      <td>2008-08-16 00:00:00</td>\n",
       "      <td>SV Zulte-Waregem</td>\n",
       "      <td>Sporting Lokeren</td>\n",
       "      <td>0</td>\n",
       "      <td>0</td>\n",
       "    </tr>\n",
       "    <tr>\n",
       "      <th>2</th>\n",
       "      <td>Belgium Jupiler League</td>\n",
       "      <td>2008/2009</td>\n",
       "      <td>2008-08-16 00:00:00</td>\n",
       "      <td>KSV Cercle Brugge</td>\n",
       "      <td>RSC Anderlecht</td>\n",
       "      <td>0</td>\n",
       "      <td>3</td>\n",
       "    </tr>\n",
       "    <tr>\n",
       "      <th>3</th>\n",
       "      <td>Belgium Jupiler League</td>\n",
       "      <td>2008/2009</td>\n",
       "      <td>2008-08-17 00:00:00</td>\n",
       "      <td>KAA Gent</td>\n",
       "      <td>RAEC Mons</td>\n",
       "      <td>5</td>\n",
       "      <td>0</td>\n",
       "    </tr>\n",
       "    <tr>\n",
       "      <th>4</th>\n",
       "      <td>Belgium Jupiler League</td>\n",
       "      <td>2008/2009</td>\n",
       "      <td>2008-08-16 00:00:00</td>\n",
       "      <td>FCV Dender EH</td>\n",
       "      <td>Standard de Liège</td>\n",
       "      <td>1</td>\n",
       "      <td>3</td>\n",
       "    </tr>\n",
       "  </tbody>\n",
       "</table>\n",
       "</div>"
      ],
      "text/plain": [
       "              league_name     season                 date               home  \\\n",
       "0  Belgium Jupiler League  2008/2009  2008-08-17 00:00:00           KRC Genk   \n",
       "1  Belgium Jupiler League  2008/2009  2008-08-16 00:00:00   SV Zulte-Waregem   \n",
       "2  Belgium Jupiler League  2008/2009  2008-08-16 00:00:00  KSV Cercle Brugge   \n",
       "3  Belgium Jupiler League  2008/2009  2008-08-17 00:00:00           KAA Gent   \n",
       "4  Belgium Jupiler League  2008/2009  2008-08-16 00:00:00      FCV Dender EH   \n",
       "\n",
       "                away  home_goals  away_goals  \n",
       "0       Beerschot AC           1           1  \n",
       "1   Sporting Lokeren           0           0  \n",
       "2     RSC Anderlecht           0           3  \n",
       "3          RAEC Mons           5           0  \n",
       "4  Standard de Liège           1           3  "
      ]
     },
     "execution_count": 747,
     "metadata": {},
     "output_type": "execute_result"
    }
   ],
   "source": [
    "#Reading the csv and checking how everything looks\n",
    "Leagues = pd.read_csv('Leagues.csv')\n",
    "Leagues.head()"
   ]
  },
  {
   "cell_type": "code",
   "execution_count": 284,
   "metadata": {},
   "outputs": [
    {
     "data": {
      "text/plain": [
       "league_name    0\n",
       "season         0\n",
       "date           0\n",
       "home           0\n",
       "away           0\n",
       "home_goals     0\n",
       "away_goals     0\n",
       "dtype: int64"
      ]
     },
     "execution_count": 284,
     "metadata": {},
     "output_type": "execute_result"
    }
   ],
   "source": [
    "#checking to see if we have any null values\n",
    "Leagues.isnull().sum()"
   ]
  },
  {
   "cell_type": "code",
   "execution_count": 269,
   "metadata": {},
   "outputs": [],
   "source": [
    "#For this question we shall store query results into a new data frame for all the home games won and lost or tied\n",
    "HW = Leagues.query('home_goals > away_goals')\n",
    "HL = Leagues.query('home_goals < away_goals')\n",
    "HT = Leagues.query('home_goals == away_goals')"
   ]
  },
  {
   "cell_type": "code",
   "execution_count": 270,
   "metadata": {},
   "outputs": [
    {
     "data": {
      "text/html": [
       "<div>\n",
       "<style scoped>\n",
       "    .dataframe tbody tr th:only-of-type {\n",
       "        vertical-align: middle;\n",
       "    }\n",
       "\n",
       "    .dataframe tbody tr th {\n",
       "        vertical-align: top;\n",
       "    }\n",
       "\n",
       "    .dataframe thead th {\n",
       "        text-align: right;\n",
       "    }\n",
       "</style>\n",
       "<table border=\"1\" class=\"dataframe\">\n",
       "  <thead>\n",
       "    <tr style=\"text-align: right;\">\n",
       "      <th></th>\n",
       "      <th>league_name</th>\n",
       "      <th>season</th>\n",
       "      <th>date</th>\n",
       "      <th>home</th>\n",
       "      <th>away</th>\n",
       "      <th>home_goals</th>\n",
       "      <th>away_goals</th>\n",
       "    </tr>\n",
       "  </thead>\n",
       "  <tbody>\n",
       "    <tr>\n",
       "      <th>3</th>\n",
       "      <td>Belgium Jupiler League</td>\n",
       "      <td>2008/2009</td>\n",
       "      <td>2008-08-17 00:00:00</td>\n",
       "      <td>KAA Gent</td>\n",
       "      <td>RAEC Mons</td>\n",
       "      <td>5</td>\n",
       "      <td>0</td>\n",
       "    </tr>\n",
       "    <tr>\n",
       "      <th>8</th>\n",
       "      <td>Belgium Jupiler League</td>\n",
       "      <td>2008/2009</td>\n",
       "      <td>2008-08-16 00:00:00</td>\n",
       "      <td>KVC Westerlo</td>\n",
       "      <td>Sporting Charleroi</td>\n",
       "      <td>1</td>\n",
       "      <td>0</td>\n",
       "    </tr>\n",
       "    <tr>\n",
       "      <th>9</th>\n",
       "      <td>Belgium Jupiler League</td>\n",
       "      <td>2008/2009</td>\n",
       "      <td>2008-11-01 00:00:00</td>\n",
       "      <td>Club Brugge KV</td>\n",
       "      <td>KV Kortrijk</td>\n",
       "      <td>4</td>\n",
       "      <td>1</td>\n",
       "    </tr>\n",
       "    <tr>\n",
       "      <th>21</th>\n",
       "      <td>Belgium Jupiler League</td>\n",
       "      <td>2008/2009</td>\n",
       "      <td>2008-11-07 00:00:00</td>\n",
       "      <td>KSV Cercle Brugge</td>\n",
       "      <td>SV Zulte-Waregem</td>\n",
       "      <td>2</td>\n",
       "      <td>0</td>\n",
       "    </tr>\n",
       "    <tr>\n",
       "      <th>25</th>\n",
       "      <td>Belgium Jupiler League</td>\n",
       "      <td>2008/2009</td>\n",
       "      <td>2008-11-08 00:00:00</td>\n",
       "      <td>KVC Westerlo</td>\n",
       "      <td>KRC Genk</td>\n",
       "      <td>1</td>\n",
       "      <td>0</td>\n",
       "    </tr>\n",
       "  </tbody>\n",
       "</table>\n",
       "</div>"
      ],
      "text/plain": [
       "               league_name     season                 date               home  \\\n",
       "3   Belgium Jupiler League  2008/2009  2008-08-17 00:00:00           KAA Gent   \n",
       "8   Belgium Jupiler League  2008/2009  2008-08-16 00:00:00       KVC Westerlo   \n",
       "9   Belgium Jupiler League  2008/2009  2008-11-01 00:00:00     Club Brugge KV   \n",
       "21  Belgium Jupiler League  2008/2009  2008-11-07 00:00:00  KSV Cercle Brugge   \n",
       "25  Belgium Jupiler League  2008/2009  2008-11-08 00:00:00       KVC Westerlo   \n",
       "\n",
       "                  away  home_goals  away_goals  \n",
       "3            RAEC Mons           5           0  \n",
       "8   Sporting Charleroi           1           0  \n",
       "9          KV Kortrijk           4           1  \n",
       "21    SV Zulte-Waregem           2           0  \n",
       "25            KRC Genk           1           0  "
      ]
     },
     "execution_count": 270,
     "metadata": {},
     "output_type": "execute_result"
    }
   ],
   "source": [
    "#Looking good\n",
    "HW.head()"
   ]
  },
  {
   "cell_type": "code",
   "execution_count": 294,
   "metadata": {},
   "outputs": [],
   "source": [
    "#Creating Variables for plotting\n",
    "ProcentW = len(HW)/len(Leagues)\n",
    "ProcentL = len(HL)/len(Leagues)\n",
    "ProcentT = len(HT)/len(Leagues)\n",
    "odds = [ProcentW,ProcentL,ProcentT]\n",
    "labels = 'Home Wins','Home Losses','Ties'"
   ]
  },
  {
   "cell_type": "markdown",
   "metadata": {},
   "source": [
    "# <a id='findings question 2'></a>\n",
    "## Analyzing our data 2\n",
    "---"
   ]
  },
  {
   "cell_type": "markdown",
   "metadata": {},
   "source": [
    "One would think that playing at home, with the support of your crowd, you would play better and win more often. Does that really occur?"
   ]
  },
  {
   "cell_type": "code",
   "execution_count": 302,
   "metadata": {},
   "outputs": [
    {
     "data": {
      "image/png": "[encoded data removed]",
      "text/plain": [
       "<Figure size 720x720 with 1 Axes>"
      ]
     },
     "metadata": {},
     "output_type": "display_data"
    }
   ],
   "source": [
    "fig, ax = plt.subplots(figsize=(10,10))\n",
    "ax.pie(odds,labels=labels,autopct='%1.1f%%',startangle=90)\n",
    "plt.title(\"Odds of Winning, Losing or Tieing while playing in Homefield\")\n",
    "plt.show()"
   ]
  },
  {
   "cell_type": "markdown",
   "metadata": {},
   "source": [
    "Therefore, the team with the Home Field advantage Won very often (slightly under 50% at 45.9%)."
   ]
  },
  {
   "cell_type": "markdown",
   "metadata": {},
   "source": [
    "# <a id='question 3'></a>\n",
    "## Question 3: Which leagues had higher goals overall and averaged per game?\n",
    "---"
   ]
  },
  {
   "cell_type": "markdown",
   "metadata": {},
   "source": [
    "For this question we shall use the same dataset as question 2"
   ]
  },
  {
   "cell_type": "code",
   "execution_count": 303,
   "metadata": {},
   "outputs": [
    {
     "data": {
      "text/html": [
       "<div>\n",
       "<style scoped>\n",
       "    .dataframe tbody tr th:only-of-type {\n",
       "        vertical-align: middle;\n",
       "    }\n",
       "\n",
       "    .dataframe tbody tr th {\n",
       "        vertical-align: top;\n",
       "    }\n",
       "\n",
       "    .dataframe thead th {\n",
       "        text-align: right;\n",
       "    }\n",
       "</style>\n",
       "<table border=\"1\" class=\"dataframe\">\n",
       "  <thead>\n",
       "    <tr style=\"text-align: right;\">\n",
       "      <th></th>\n",
       "      <th>league_name</th>\n",
       "      <th>season</th>\n",
       "      <th>date</th>\n",
       "      <th>home</th>\n",
       "      <th>away</th>\n",
       "      <th>home_goals</th>\n",
       "      <th>away_goals</th>\n",
       "    </tr>\n",
       "  </thead>\n",
       "  <tbody>\n",
       "    <tr>\n",
       "      <th>0</th>\n",
       "      <td>Belgium Jupiler League</td>\n",
       "      <td>2008/2009</td>\n",
       "      <td>2008-08-17 00:00:00</td>\n",
       "      <td>KRC Genk</td>\n",
       "      <td>Beerschot AC</td>\n",
       "      <td>1</td>\n",
       "      <td>1</td>\n",
       "    </tr>\n",
       "    <tr>\n",
       "      <th>1</th>\n",
       "      <td>Belgium Jupiler League</td>\n",
       "      <td>2008/2009</td>\n",
       "      <td>2008-08-16 00:00:00</td>\n",
       "      <td>SV Zulte-Waregem</td>\n",
       "      <td>Sporting Lokeren</td>\n",
       "      <td>0</td>\n",
       "      <td>0</td>\n",
       "    </tr>\n",
       "    <tr>\n",
       "      <th>2</th>\n",
       "      <td>Belgium Jupiler League</td>\n",
       "      <td>2008/2009</td>\n",
       "      <td>2008-08-16 00:00:00</td>\n",
       "      <td>KSV Cercle Brugge</td>\n",
       "      <td>RSC Anderlecht</td>\n",
       "      <td>0</td>\n",
       "      <td>3</td>\n",
       "    </tr>\n",
       "    <tr>\n",
       "      <th>3</th>\n",
       "      <td>Belgium Jupiler League</td>\n",
       "      <td>2008/2009</td>\n",
       "      <td>2008-08-17 00:00:00</td>\n",
       "      <td>KAA Gent</td>\n",
       "      <td>RAEC Mons</td>\n",
       "      <td>5</td>\n",
       "      <td>0</td>\n",
       "    </tr>\n",
       "    <tr>\n",
       "      <th>4</th>\n",
       "      <td>Belgium Jupiler League</td>\n",
       "      <td>2008/2009</td>\n",
       "      <td>2008-08-16 00:00:00</td>\n",
       "      <td>FCV Dender EH</td>\n",
       "      <td>Standard de Liège</td>\n",
       "      <td>1</td>\n",
       "      <td>3</td>\n",
       "    </tr>\n",
       "  </tbody>\n",
       "</table>\n",
       "</div>"
      ],
      "text/plain": [
       "              league_name     season                 date               home  \\\n",
       "0  Belgium Jupiler League  2008/2009  2008-08-17 00:00:00           KRC Genk   \n",
       "1  Belgium Jupiler League  2008/2009  2008-08-16 00:00:00   SV Zulte-Waregem   \n",
       "2  Belgium Jupiler League  2008/2009  2008-08-16 00:00:00  KSV Cercle Brugge   \n",
       "3  Belgium Jupiler League  2008/2009  2008-08-17 00:00:00           KAA Gent   \n",
       "4  Belgium Jupiler League  2008/2009  2008-08-16 00:00:00      FCV Dender EH   \n",
       "\n",
       "                away  home_goals  away_goals  \n",
       "0       Beerschot AC           1           1  \n",
       "1   Sporting Lokeren           0           0  \n",
       "2     RSC Anderlecht           0           3  \n",
       "3          RAEC Mons           5           0  \n",
       "4  Standard de Liège           1           3  "
      ]
     },
     "execution_count": 303,
     "metadata": {},
     "output_type": "execute_result"
    }
   ],
   "source": [
    "Leagues.head()"
   ]
  },
  {
   "cell_type": "code",
   "execution_count": 333,
   "metadata": {},
   "outputs": [],
   "source": [
    "#passing to new df, grouping by the league name and summing goals, finally sorting\n",
    "Total_goals = Leagues.groupby('league_name').sum()\n",
    "Total_goals['total'] = Total_goals['home_goals'] + Total_goals['away_goals']\n",
    "Total_goals.pop('home_goals')\n",
    "Total_goals.pop('away_goals')\n",
    "Total_goals.sort_values(by='total',inplace=True)"
   ]
  },
  {
   "cell_type": "code",
   "execution_count": 325,
   "metadata": {},
   "outputs": [],
   "source": [
    "#now to count amount of games per league and append that to a different dataset with total amount of goals\n",
    "Amount_matches = Leagues.groupby('league_name').count()['date']"
   ]
  },
  {
   "cell_type": "code",
   "execution_count": 338,
   "metadata": {},
   "outputs": [],
   "source": [
    "#Appending the 2 datasets, creating the average column\n",
    "Average_goals = pd.merge(Total_goals,Amount_matches,on='league_name',how=\"left\")\n",
    "Average_goals.rename(columns={'date':'matches'},inplace=True)\n",
    "Average_goals['avg'] = Average_goals['total']/Average_goals['matches']\n",
    "Average_goals.pop('matches')\n",
    "Average_goals.pop('total')\n",
    "Average_goals.sort_values(by='avg',inplace=True)"
   ]
  },
  {
   "cell_type": "markdown",
   "metadata": {},
   "source": [
    "# <a id='findings question 3'></a>\n",
    "## Analyzing our data 3\n",
    "---"
   ]
  },
  {
   "cell_type": "markdown",
   "metadata": {},
   "source": [
    "Although we have data from 11 National Leagues, there are obviously a couple well know that stand out for being better known, such as Englands Premier League. But, which league has the highest scoring average and which has the highest amount of goals in our dataset?"
   ]
  },
  {
   "cell_type": "code",
   "execution_count": 356,
   "metadata": {},
   "outputs": [
    {
     "data": {
      "image/png": "[encoded data removed]",
      "text/plain": [
       "<Figure size 720x504 with 1 Axes>"
      ]
     },
     "metadata": {
      "needs_background": "light"
     },
     "output_type": "display_data"
    }
   ],
   "source": [
    "Average_goals.plot.bar(figsize=(10,7),legend=False,\\\n",
    "                       title=\"Average goals per Match in 11 Different European Leagues\",ylabel=\"Goals\");"
   ]
  },
  {
   "cell_type": "markdown",
   "metadata": {},
   "source": [
    "So the Eredvisie from the Netherlands has the highest scoring average."
   ]
  },
  {
   "cell_type": "code",
   "execution_count": 358,
   "metadata": {},
   "outputs": [
    {
     "data": {
      "image/png": "[encoded data removed]",
      "text/plain": [
       "<Figure size 720x504 with 1 Axes>"
      ]
     },
     "metadata": {
      "needs_background": "light"
     },
     "output_type": "display_data"
    }
   ],
   "source": [
    "Total_goals.plot.bar(figsize=(10,7),title=\"Total amount of goals per League in Dataset\",legend=False,ylabel=\"Goals\");"
   ]
  },
  {
   "cell_type": "markdown",
   "metadata": {},
   "source": [
    "And the Spanish LIGA BBVA has the most amount of goals recorded in this dataset!"
   ]
  },
  {
   "cell_type": "markdown",
   "metadata": {},
   "source": [
    "# <a id='question 4'></a>\n",
    "## Question 4: What is the correlation between the average stats of a team and its chances of winning more games during a season?\n",
    "---"
   ]
  },
  {
   "cell_type": "markdown",
   "metadata": {},
   "source": [
    "For this question we shall extract the Team information and compare it with the Match information earlier extracted\n",
    "\n",
    "For teams and their ratings, basically similar extraction process as players, except that here\n",
    "we have multiple ratings. I am going to modify the date slightly different, since for the questions\n",
    "relating to teams I shall be using Seasons instead of years.\n",
    "\n",
    "SQL query for Teams and ratings\n",
    "select T.team_long_name as \"team_name\",\n",
    "\n",
    " TA.buildUpPlayDribbling as \"dribbling\", TA.buildUpPlaySpeed as \"play_speed\", \n",
    " \n",
    " TA.buildUpPlayPassing as \"passing\", TA.chanceCreationCrossing as \"crossing_creation\" ,\n",
    " \n",
    " TA.chanceCreationPassing as \"passing_creation\", TA.chanceCreationShooting as \"shooting_creation\",\n",
    " \n",
    " TA.defenceAggression as \"def_agression\", TA.defencePressure \"def_pressure\", TA.defenceTeamWidth as \"def_width\",\n",
    " \n",
    " TA.date as \"date\"\n",
    "\n",
    "from Team as T\n",
    "\n",
    "inner join Team_Attributes as TA\n",
    "\n",
    "on T.team_fifa_api_id = TA.team_fifa_api_id\n",
    "\n",
    "Order By T.team_long_name;\n",
    "\n",
    "Then extracted as Teams_and_ratings.csv"
   ]
  },
  {
   "cell_type": "code",
   "execution_count": 663,
   "metadata": {},
   "outputs": [
    {
     "data": {
      "text/html": [
       "<div>\n",
       "<style scoped>\n",
       "    .dataframe tbody tr th:only-of-type {\n",
       "        vertical-align: middle;\n",
       "    }\n",
       "\n",
       "    .dataframe tbody tr th {\n",
       "        vertical-align: top;\n",
       "    }\n",
       "\n",
       "    .dataframe thead th {\n",
       "        text-align: right;\n",
       "    }\n",
       "</style>\n",
       "<table border=\"1\" class=\"dataframe\">\n",
       "  <thead>\n",
       "    <tr style=\"text-align: right;\">\n",
       "      <th></th>\n",
       "      <th>team_name</th>\n",
       "      <th>dribbling</th>\n",
       "      <th>play_speed</th>\n",
       "      <th>passing</th>\n",
       "      <th>crossing_creation</th>\n",
       "      <th>passing_creation</th>\n",
       "      <th>shooting_creation</th>\n",
       "      <th>def_agression</th>\n",
       "      <th>def_pressure</th>\n",
       "      <th>def_width</th>\n",
       "      <th>date</th>\n",
       "    </tr>\n",
       "  </thead>\n",
       "  <tbody>\n",
       "    <tr>\n",
       "      <th>0</th>\n",
       "      <td>1. FC Kaiserslautern</td>\n",
       "      <td>NaN</td>\n",
       "      <td>45</td>\n",
       "      <td>55</td>\n",
       "      <td>70</td>\n",
       "      <td>45</td>\n",
       "      <td>70</td>\n",
       "      <td>70</td>\n",
       "      <td>70</td>\n",
       "      <td>70</td>\n",
       "      <td>2010-02-22 00:00:00</td>\n",
       "    </tr>\n",
       "    <tr>\n",
       "      <th>1</th>\n",
       "      <td>1. FC Kaiserslautern</td>\n",
       "      <td>NaN</td>\n",
       "      <td>48</td>\n",
       "      <td>42</td>\n",
       "      <td>68</td>\n",
       "      <td>49</td>\n",
       "      <td>53</td>\n",
       "      <td>48</td>\n",
       "      <td>38</td>\n",
       "      <td>53</td>\n",
       "      <td>2011-02-22 00:00:00</td>\n",
       "    </tr>\n",
       "    <tr>\n",
       "      <th>2</th>\n",
       "      <td>1. FC Kaiserslautern</td>\n",
       "      <td>NaN</td>\n",
       "      <td>38</td>\n",
       "      <td>54</td>\n",
       "      <td>49</td>\n",
       "      <td>43</td>\n",
       "      <td>64</td>\n",
       "      <td>51</td>\n",
       "      <td>37</td>\n",
       "      <td>53</td>\n",
       "      <td>2012-02-22 00:00:00</td>\n",
       "    </tr>\n",
       "    <tr>\n",
       "      <th>3</th>\n",
       "      <td>1. FC Kaiserslautern</td>\n",
       "      <td>NaN</td>\n",
       "      <td>61</td>\n",
       "      <td>54</td>\n",
       "      <td>62</td>\n",
       "      <td>43</td>\n",
       "      <td>56</td>\n",
       "      <td>50</td>\n",
       "      <td>48</td>\n",
       "      <td>53</td>\n",
       "      <td>2013-09-20 00:00:00</td>\n",
       "    </tr>\n",
       "    <tr>\n",
       "      <th>4</th>\n",
       "      <td>1. FC Kaiserslautern</td>\n",
       "      <td>48.0</td>\n",
       "      <td>66</td>\n",
       "      <td>53</td>\n",
       "      <td>69</td>\n",
       "      <td>54</td>\n",
       "      <td>51</td>\n",
       "      <td>47</td>\n",
       "      <td>47</td>\n",
       "      <td>49</td>\n",
       "      <td>2014-09-19 00:00:00</td>\n",
       "    </tr>\n",
       "  </tbody>\n",
       "</table>\n",
       "</div>"
      ],
      "text/plain": [
       "              team_name  dribbling  play_speed  passing  crossing_creation  \\\n",
       "0  1. FC Kaiserslautern        NaN          45       55                 70   \n",
       "1  1. FC Kaiserslautern        NaN          48       42                 68   \n",
       "2  1. FC Kaiserslautern        NaN          38       54                 49   \n",
       "3  1. FC Kaiserslautern        NaN          61       54                 62   \n",
       "4  1. FC Kaiserslautern       48.0          66       53                 69   \n",
       "\n",
       "   passing_creation  shooting_creation  def_agression  def_pressure  \\\n",
       "0                45                 70             70            70   \n",
       "1                49                 53             48            38   \n",
       "2                43                 64             51            37   \n",
       "3                43                 56             50            48   \n",
       "4                54                 51             47            47   \n",
       "\n",
       "   def_width                 date  \n",
       "0         70  2010-02-22 00:00:00  \n",
       "1         53  2011-02-22 00:00:00  \n",
       "2         53  2012-02-22 00:00:00  \n",
       "3         53  2013-09-20 00:00:00  \n",
       "4         49  2014-09-19 00:00:00  "
      ]
     },
     "execution_count": 663,
     "metadata": {},
     "output_type": "execute_result"
    }
   ],
   "source": [
    "#Loading and viewing\n",
    "Teams = pd.read_csv('Teams_and_ratings.csv')\n",
    "Teams.head()"
   ]
  },
  {
   "cell_type": "code",
   "execution_count": 664,
   "metadata": {},
   "outputs": [],
   "source": [
    "#creating a column to give us the average rating and dropping others\n",
    "Teams.fillna(0,inplace=True)\n",
    "Teams['avg'] = (Teams.dribbling + Teams.play_speed + Teams.passing + Teams.crossing_creation + Teams.passing_creation \\\n",
    "+ Teams.shooting_creation + Teams.def_agression + Teams.def_pressure + Teams.def_width) / 9\n",
    "Teams.drop(Teams.columns[[1,2,3,4,5,6,7,8,9]],axis=1,inplace=True)"
   ]
  },
  {
   "cell_type": "code",
   "execution_count": 671,
   "metadata": {},
   "outputs": [],
   "source": [
    "#creating a function to convert our date to season and removing date afterwards\n",
    "def season(x):\n",
    "    if x==\"2010-02-22 00:00:00\":\n",
    "        return 2010\n",
    "    elif x==\"2011-02-22 00:00:00\":\n",
    "        return 2011\n",
    "    elif x==\"2012-02-22 00:00:00\":\n",
    "        return 2012\n",
    "    elif x==\"2013-09-20 00:00:00\":\n",
    "        return 2013\n",
    "    elif x==\"2014-09-19 00:00:00\":\n",
    "        return 2014\n",
    "    else:\n",
    "        return 2015\n",
    "    \n",
    "\n",
    "Teams['season']= Teams['date'].apply(season)\n",
    "Teams.pop('date');"
   ]
  },
  {
   "cell_type": "code",
   "execution_count": 748,
   "metadata": {},
   "outputs": [
    {
     "data": {
      "text/html": [
       "<div>\n",
       "<style scoped>\n",
       "    .dataframe tbody tr th:only-of-type {\n",
       "        vertical-align: middle;\n",
       "    }\n",
       "\n",
       "    .dataframe tbody tr th {\n",
       "        vertical-align: top;\n",
       "    }\n",
       "\n",
       "    .dataframe thead th {\n",
       "        text-align: right;\n",
       "    }\n",
       "</style>\n",
       "<table border=\"1\" class=\"dataframe\">\n",
       "  <thead>\n",
       "    <tr style=\"text-align: right;\">\n",
       "      <th></th>\n",
       "      <th>league_name</th>\n",
       "      <th>season</th>\n",
       "      <th>home</th>\n",
       "      <th>away</th>\n",
       "      <th>home_goals</th>\n",
       "      <th>away_goals</th>\n",
       "    </tr>\n",
       "  </thead>\n",
       "  <tbody>\n",
       "    <tr>\n",
       "      <th>0</th>\n",
       "      <td>Belgium Jupiler League</td>\n",
       "      <td>2009</td>\n",
       "      <td>KRC Genk</td>\n",
       "      <td>Beerschot AC</td>\n",
       "      <td>1</td>\n",
       "      <td>1</td>\n",
       "    </tr>\n",
       "    <tr>\n",
       "      <th>1</th>\n",
       "      <td>Belgium Jupiler League</td>\n",
       "      <td>2009</td>\n",
       "      <td>SV Zulte-Waregem</td>\n",
       "      <td>Sporting Lokeren</td>\n",
       "      <td>0</td>\n",
       "      <td>0</td>\n",
       "    </tr>\n",
       "    <tr>\n",
       "      <th>2</th>\n",
       "      <td>Belgium Jupiler League</td>\n",
       "      <td>2009</td>\n",
       "      <td>KSV Cercle Brugge</td>\n",
       "      <td>RSC Anderlecht</td>\n",
       "      <td>0</td>\n",
       "      <td>3</td>\n",
       "    </tr>\n",
       "    <tr>\n",
       "      <th>3</th>\n",
       "      <td>Belgium Jupiler League</td>\n",
       "      <td>2009</td>\n",
       "      <td>KAA Gent</td>\n",
       "      <td>RAEC Mons</td>\n",
       "      <td>5</td>\n",
       "      <td>0</td>\n",
       "    </tr>\n",
       "    <tr>\n",
       "      <th>4</th>\n",
       "      <td>Belgium Jupiler League</td>\n",
       "      <td>2009</td>\n",
       "      <td>FCV Dender EH</td>\n",
       "      <td>Standard de Liège</td>\n",
       "      <td>1</td>\n",
       "      <td>3</td>\n",
       "    </tr>\n",
       "  </tbody>\n",
       "</table>\n",
       "</div>"
      ],
      "text/plain": [
       "              league_name season               home               away  \\\n",
       "0  Belgium Jupiler League   2009           KRC Genk       Beerschot AC   \n",
       "1  Belgium Jupiler League   2009   SV Zulte-Waregem   Sporting Lokeren   \n",
       "2  Belgium Jupiler League   2009  KSV Cercle Brugge     RSC Anderlecht   \n",
       "3  Belgium Jupiler League   2009           KAA Gent          RAEC Mons   \n",
       "4  Belgium Jupiler League   2009      FCV Dender EH  Standard de Liège   \n",
       "\n",
       "   home_goals  away_goals  \n",
       "0           1           1  \n",
       "1           0           0  \n",
       "2           0           3  \n",
       "3           5           0  \n",
       "4           1           3  "
      ]
     },
     "execution_count": 748,
     "metadata": {},
     "output_type": "execute_result"
    }
   ],
   "source": [
    "#burner df to not mix up the original, fixing the season and poppin date\n",
    "League = Leagues\n",
    "League['season'] = League['season'].str[5:]\n",
    "League.pop('date')\n",
    "League.head()"
   ]
  },
  {
   "cell_type": "code",
   "execution_count": 749,
   "metadata": {},
   "outputs": [],
   "source": [
    "#create function to assign a 1 for a win and apply for home or away win, then popping the goals\n",
    "def win_or_lose(x,y):\n",
    "    if x>y:\n",
    "        return 1\n",
    "    else:\n",
    "        return 0\n",
    "    \n",
    "League['home_win'] = League.apply(lambda x: win_or_lose(x['home_goals'], x['away_goals']), axis=1)\n",
    "League['away_win'] = League.apply(lambda x: win_or_lose(x['away_goals'], x['home_goals']), axis=1)\n",
    "League.pop('home_goals')\n",
    "League.pop('away_goals');"
   ]
  },
  {
   "cell_type": "code",
   "execution_count": 750,
   "metadata": {},
   "outputs": [],
   "source": [
    "#filtering League to have only seasons 2010:2015\n",
    "League = League.query('\"2009\" < season < \"2016\"')"
   ]
  },
  {
   "cell_type": "code",
   "execution_count": 785,
   "metadata": {},
   "outputs": [],
   "source": [
    "#grouping \n",
    "Wins = League.groupby(['home','season'])['home_win'].sum() + League.groupby(['away','season'])['away_win'].sum()\n",
    "Win = Wins.to_frame(name ='wins').reset_index()\n",
    "Win.rename(columns={\"home\":\"team_name\"},inplace=True)"
   ]
  },
  {
   "cell_type": "code",
   "execution_count": 798,
   "metadata": {},
   "outputs": [],
   "source": [
    "Teams['season']= Teams['season'].astype(str)\n",
    "#to make the join easier, going to create a column called name_and_season\n",
    "Teams['name_and_season'] = Teams.team_name + Teams.season\n",
    "Win['name_and_season'] = Win.team_name + Win.season"
   ]
  },
  {
   "cell_type": "code",
   "execution_count": 809,
   "metadata": {},
   "outputs": [],
   "source": [
    "#Merging and getting rid of everything except team name, avg, season and wins, renaming to look better\n",
    "Final = pd.merge(Teams,Win,on='name_and_season',how=\"inner\")\n",
    "Final.drop(columns=['team_name_y','season_y','name_and_season'],inplace=True)\n",
    "Final.rename(columns={'team_name_x':'team_name','season_x':'season'},inplace=True)"
   ]
  },
  {
   "cell_type": "code",
   "execution_count": 835,
   "metadata": {},
   "outputs": [],
   "source": [
    "#Time to create some df's to plot\n",
    "Final.sort_values(by='avg',ascending=False,inplace=True)\n",
    "Final20=Final.head(20)"
   ]
  },
  {
   "cell_type": "code",
   "execution_count": 876,
   "metadata": {},
   "outputs": [],
   "source": [
    "#2010 season with sample 20\n",
    "Final10 = Final.query('season == \"2010\"')\n",
    "Final10 = Final10.sample(20).sort_values(by='avg')"
   ]
  },
  {
   "cell_type": "code",
   "execution_count": 878,
   "metadata": {},
   "outputs": [],
   "source": [
    "#2015 season with sample 20\n",
    "Final15 = Final.query('season == \"2015\"')\n",
    "Final15 = Final10.sample(20).sort_values(by='avg')"
   ]
  },
  {
   "cell_type": "markdown",
   "metadata": {},
   "source": [
    "# <a id='findings question 4'></a>\n",
    "## Analyzing our data 4\n",
    "---"
   ]
  },
  {
   "cell_type": "markdown",
   "metadata": {},
   "source": [
    "We can now look at an overall view of the teams wins during a season compared to their average overall Ratings!"
   ]
  },
  {
   "cell_type": "markdown",
   "metadata": {},
   "source": [
    "For our first look we shall plot the 20 Teams with highest Average Ratings across all season from our data."
   ]
  },
  {
   "cell_type": "code",
   "execution_count": 875,
   "metadata": {},
   "outputs": [
    {
     "data": {
      "image/png": "[encoded data removed]",
      "text/plain": [
       "<Figure size 720x720 with 1 Axes>"
      ]
     },
     "metadata": {
      "needs_background": "light"
     },
     "output_type": "display_data"
    }
   ],
   "source": [
    "Final20.plot.scatter('avg','wins',figsize=(10,10),\\\n",
    "                title=\"Top 20 Teams by Average Rating\",xlabel=\"Average Rating\",ylabel=\"Wins during their Season\");"
   ]
  },
  {
   "cell_type": "markdown",
   "metadata": {},
   "source": [
    "It doesn't appear to show a direct correlation between higher ratings and more wins during a season, especially noteworthy the points at around (60,3) and (61,25).\n",
    "\n",
    "\n",
    "Next, we shall analyze two separate seasons, 2010 and 2015, chosen randomly and extracting a random sample of size 20, to see if this no-correlation trend continues."
   ]
  },
  {
   "cell_type": "code",
   "execution_count": 902,
   "metadata": {},
   "outputs": [
    {
     "data": {
      "image/png": "[encoded data removed]",
      "text/plain": [
       "<Figure size 1440x576 with 1 Axes>"
      ]
     },
     "metadata": {
      "needs_background": "light"
     },
     "output_type": "display_data"
    }
   ],
   "source": [
    "plt.bar(Final10['team_name'],Final10['avg'])\n",
    "plt.plot(Final10['team_name'],Final10['wins'],color='red')\n",
    "plt.xticks(rotation=90)\n",
    "plt.title(\"2010 Season Random Sample\")\n",
    "plt.ylabel(\"Wins and Rating\")\n",
    "plt.legend(['Wins','Rating'])\n",
    "plt.rcParams[\"figure.figsize\"] = (20,6)\n",
    "plt.show()"
   ]
  },
  {
   "cell_type": "code",
   "execution_count": 903,
   "metadata": {},
   "outputs": [
    {
     "data": {
      "image/png": "[encoded data removed]",
      "text/plain": [
       "<Figure size 1440x432 with 1 Axes>"
      ]
     },
     "metadata": {
      "needs_background": "light"
     },
     "output_type": "display_data"
    }
   ],
   "source": [
    "plt.bar(Final15['team_name'],Final15['avg'])\n",
    "plt.plot(Final15['team_name'],Final15['wins'],color='red')\n",
    "plt.xticks(rotation=90)\n",
    "plt.title(\"2015 Season Random Sample\")\n",
    "plt.ylabel(\"Wins and Rating\")\n",
    "plt.legend(['Wins','Rating'])\n",
    "plt.rcParams[\"figure.figsize\"] = (20,6)\n",
    "plt.show()"
   ]
  },
  {
   "cell_type": "markdown",
   "metadata": {},
   "source": [
    "And there it is, a team having a higher average Rating does not correlate with winning more games during their Season! "
   ]
  },
  {
   "cell_type": "markdown",
   "metadata": {},
   "source": [
    "<a id='conclusions'></a>\n",
    "## Conclusions\n",
    "\n",
    "\n",
    "In regards to what has been presented in thie Dataset study, we can conclude:\n",
    "\n",
    "* Higher Rated players tend to have longer careers in Soccer, causing our analysis of AgexRating to not react as expected, which is that Human Physical capabilities should lower with age.\n",
    "\n",
    "* Playing games at Home Field seem to bestow higher Winning results, just shy of 50%. \n",
    "\n",
    "* The Eredvisie from the Netherlands and the Spanish BBVA were the leagues with highest Average goals per Game and Goals in the dataset, respectively. Our dataset was partially limited as some leagues had more data than others.\n",
    "\n",
    "* No correlation was found between a Teams Average Rating and the amount of Games they won during a given Season.\n",
    "\n",
    "#### Limitations\n",
    "\n",
    "As is with all datasets, nothing is perfect and/or more could be done, to list a few of the encountered limitations:\n",
    "\n",
    "1. From the original database in the Match table, a lot of information was not in usable format, such as goal, shoton etc.\n",
    "\n",
    "2. Disparity between amount of data from each league, such as we have 3040 Match entries from the French Ligue 1 and only 2052 from the Portugual Liga ZON.\n",
    "\n",
    "3. Redundant Columns, examples are country_id and id being exactly the same for the countries and leagues, Teams having id, fifa_api_id and team_api_id, all being unique to one team, probably could've gotten away with just 1 of them."
   ]
  },
  {
   "cell_type": "markdown",
   "metadata": {},
   "source": [
    "This project would not have been made possible without a lot of help from:\n",
    "\n",
    "1. https://matplotlib.org/stable/api/matplotlib_configuration_api.html\n",
    "\n",
    "2. https://stackoverflow.com/"
   ]
  },
  {
   "cell_type": "markdown",
   "metadata": {},
   "source": [
    "Resubmission to include Limitations sub-section"
   ]
  }
 ],
 "metadata": {
  "kernelspec": {
   "display_name": "Python 3 (ipykernel)",
   "language": "python",
   "name": "python3"
  },
  "language_info": {
   "codemirror_mode": {
    "name": "ipython",
    "version": 3
   },
   "file_extension": ".py",
   "mimetype": "text/x-python",
   "name": "python",
   "nbconvert_exporter": "python",
   "pygments_lexer": "ipython3",
   "version": "3.9.12"
  }
 },
 "nbformat": 4,
 "nbformat_minor": 2
}
